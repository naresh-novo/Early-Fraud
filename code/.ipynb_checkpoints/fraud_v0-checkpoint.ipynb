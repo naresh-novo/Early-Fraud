{
 "cells": [
  {
   "cell_type": "code",
   "execution_count": 2,
   "id": "6b278214",
   "metadata": {},
   "outputs": [],
   "source": [
    "import pickle\n",
    "from datetime import timedelta\n",
    "\n",
    "import pandas as pd\n",
    "import numpy as np\n",
    "import plotly.express as px\n",
    "\n",
    "import seaborn as sns\n",
    "import matplotlib.pyplot as plt\n",
    "sns.set_theme(style=\"ticks\", color_codes=True)\n",
    "\n",
    "from config import SQLQuery"
   ]
  },
  {
   "cell_type": "code",
   "execution_count": 3,
   "id": "15d75bcd",
   "metadata": {},
   "outputs": [],
   "source": [
    "querySno = SQLQuery('snowflake')"
   ]
  },
  {
   "cell_type": "code",
   "execution_count": 16,
   "id": "11981870",
   "metadata": {},
   "outputs": [],
   "source": [
    "fraud = querySno(\n",
    "\"\"\"\n",
    "with funded_accounts_tmp as (\n",
    "select distinct a.BUSINESS_ID, a.APPLICATION_ID, DATEDIFF(day, ACCOUNT_CREATE_DATE, TRANSACTION_DATE) as DAYS_SINCE_CREATED from \n",
    "(\n",
    "  select distinct APPLICATION_ID, BUSINESS_ID, ACCOUNT_CREATE_DATE from \"PROD_DB\".\"DATA\".\"BUSINESSES\"\n",
    "  where ACCOUNT_CREATE_DATE between '2021-01-01' and '2022-02-28'\n",
    ") a\n",
    "inner join\n",
    "(\n",
    "  select distinct BUSINESS_ID, TRANSACTION_DATE from \"PROD_DB\".\"DATA\".\"TRANSACTIONS\" where type='credit' and status='active'\n",
    ") b\n",
    "on a.BUSINESS_ID=b.BUSINESS_ID\n",
    "where a.APPLICATION_ID is not null and DAYS_SINCE_CREATED between  0 and 60\n",
    "),\n",
    "\n",
    "funded_accounts as (\n",
    "select distinct BUSINESS_ID, APPLICATION_ID from funded_accounts_tmp\n",
    "),\n",
    "\n",
    "loss_tx as (\n",
    "       select *\n",
    "        from (\n",
    "            select business_id\n",
    "            , RANK() OVER (PARTITION BY business_id\n",
    "                ORDER BY transaction_date DESC) returned_rank\n",
    "            , amount as loss_tx_amount\n",
    "            , created_date loss_tx_created_at\n",
    "            , transaction_date loss_tx_transaction_date\n",
    "            from prod_db.data.transactions\n",
    "            where 1=1\n",
    "                and medium in ('Descriptive Deposit', 'Closeout Withdrawal')\n",
    "                and amount > 0\n",
    "                and running_balance = 0\n",
    "        )\n",
    "        where returned_rank=1\n",
    "),\n",
    "\n",
    "fraud_closure_accounts as (\n",
    "    select business_id, closure_reason, business_type, account_close_date, ACCOUNT_CREATE_DATE \n",
    "    ,ACCOUNT_STATUS, CLOSURE_IS_SUSPECT_FRAUD\n",
    "        ,  case \n",
    "                when datediff(day, ACCOUNT_CREATE_DATE, coalesce(account_close_date, current_date())) > 60 then '60+' \n",
    "                when  datediff(day, ACCOUNT_CREATE_DATE, coalesce(account_close_date, current_date())) between 31 and 60 then '60'\n",
    "                when  datediff(day, ACCOUNT_CREATE_DATE, coalesce(account_close_date, current_date())) between 0 and 30 then '30'\n",
    "            end  as days_on_books\n",
    "        , cast(date_trunc(month, account_close_date) as date) as account_close_month\n",
    "    from prod_db.data.businesses \n",
    "    where 1=1\n",
    "        and closure_reason ilike '%fraud%' \n",
    "        and account_close_date is not null \n",
    "        and ACCOUNT_CREATE_DATE between '2021-01-01' and '2022-02-28'\n",
    "),\n",
    "\n",
    "fraud_acounts_less_60 as (\n",
    "select distinct f.business_id, 1 as fraud from \n",
    "    (select * from fraud_closure_accounts where days_on_books in ('30', '60')) f \n",
    "inner join loss_tx l on f.business_id = l.business_id\n",
    "),\n",
    "\n",
    "fraud_acounts_greater_60 as (\n",
    "select distinct f.business_id, 1 as fraud from \n",
    "    (select * from fraud_closure_accounts where days_on_books='60+' ) f \n",
    "inner join loss_tx l on f.business_id = l.business_id\n",
    "),\n",
    "\n",
    "fraud_accounts_txns as (\n",
    "select a.* from prod_db.data.transactions a\n",
    "join fraud_acounts_less_60 b on a.business_id=b.business_id\n",
    "),\n",
    "\n",
    "distinct_app_id_tmp1 as (\n",
    "select distinct \n",
    "a.business_id, a.APPLICATION_ID,\n",
    "case \n",
    "    when b.fraud=1 then 1\n",
    "    else 0\n",
    "end as fraud \n",
    "from funded_accounts a\n",
    "left join\n",
    "fraud_acounts_less_60 b\n",
    "on a.business_id=b.business_id\n",
    "),\n",
    "\n",
    "distinct_app_id as (\n",
    "select a.* from distinct_app_id_tmp1 a\n",
    "left join\n",
    "fraud_acounts_greater_60 b\n",
    "on a.business_id=b.business_id \n",
    "where b.business_id is null\n",
    ")\n",
    "\n",
    "select * from distinct_app_id\n",
    "\n",
    "\"\"\")\n"
   ]
  },
  {
   "cell_type": "code",
   "execution_count": 17,
   "id": "6d39e702",
   "metadata": {},
   "outputs": [
    {
     "data": {
      "text/plain": [
       "(109137, 3)"
      ]
     },
     "execution_count": 17,
     "metadata": {},
     "output_type": "execute_result"
    }
   ],
   "source": [
    "# 109137 created in the period but closed even after Feb'22\n",
    "fraud.shape"
   ]
  },
  {
   "cell_type": "code",
   "execution_count": 18,
   "id": "02175f66",
   "metadata": {},
   "outputs": [
    {
     "data": {
      "text/plain": [
       "0    108661\n",
       "1       476\n",
       "Name: fraud, dtype: int64"
      ]
     },
     "execution_count": 18,
     "metadata": {},
     "output_type": "execute_result"
    }
   ],
   "source": [
    "fraud['fraud'].value_counts()"
   ]
  },
  {
   "cell_type": "code",
   "execution_count": 19,
   "id": "ae482a3d",
   "metadata": {},
   "outputs": [
    {
     "data": {
      "text/plain": [
       "0.4361490603553332"
      ]
     },
     "execution_count": 19,
     "metadata": {},
     "output_type": "execute_result"
    }
   ],
   "source": [
    "476*100/109137"
   ]
  },
  {
   "cell_type": "markdown",
   "id": "f6d15fb8",
   "metadata": {},
   "source": [
    "### Applications Features "
   ]
  },
  {
   "cell_type": "code",
   "execution_count": 20,
   "id": "c595223f",
   "metadata": {},
   "outputs": [],
   "source": [
    "app_data = querySno(\n",
    "\"\"\"\n",
    "select\n",
    "APPLICATION_ID,\n",
    "IS_EMAIL_VALID,\n",
    "EMAIL_IS_VERIFIED,\n",
    "AZLO_REFERRAL,\n",
    "APPLICATION_START_DATETIME,\n",
    "APPLICATION_COMPLETE_DATETIME,\n",
    "APPLICATION_RESUBMITTED_DATETIME,\n",
    "NUMBER_INCOMPLETE_EVENTS,\n",
    "AML_RISK_SCORE,\n",
    "HIGH_RISK_INDUSTRY,\n",
    "UTM_SOURCE,\n",
    "UTM_MEDIUM,\n",
    "APPLICATION_CHANNEL,\n",
    "ESTIMATED_MONTHLY_REVENUE,\n",
    "INCOMING_ACH_PAYMENTS,\n",
    "CHECK_DEPOSIT_AMOUNT,\n",
    "INCOMING_WIRE_TRANSFER,\n",
    "OUTGOING_ACH_AND_CHECKS,\n",
    "OUTGOING_WIRE_TRANSFERS,\n",
    "NUMBER_OF_EMPLOYEES,\n",
    "HAS_INTERNATIONAL_BUSINESS,\n",
    "LEGAL_NAME_EXIST_IN_DOC,\n",
    "HEAR_ABOUT_NOVO,\n",
    "INDUSTRY_CATEGORY_ID,\n",
    "INDUSTRY_CATEGORY_NAME,\n",
    "DATE_OF_ESTABLISHMENT,\n",
    "BUSINESS_TYPE\n",
    "from prod_db.data.applications \n",
    "where ACCOUNT_OPENED_DATETIME between '2021-01-01' and '2022-02-28'\n",
    "\"\"\"\n",
    ")"
   ]
  },
  {
   "cell_type": "code",
   "execution_count": 21,
   "id": "b821c622",
   "metadata": {},
   "outputs": [
    {
     "data": {
      "text/plain": [
       "(143800, 27)"
      ]
     },
     "execution_count": 21,
     "metadata": {},
     "output_type": "execute_result"
    }
   ],
   "source": [
    "app_data.shape"
   ]
  },
  {
   "cell_type": "code",
   "execution_count": 22,
   "id": "206d5102",
   "metadata": {},
   "outputs": [],
   "source": [
    "fraud_app_data = pd.merge(fraud, app_data, on='application_id')"
   ]
  },
  {
   "cell_type": "code",
   "execution_count": 23,
   "id": "87e91c19",
   "metadata": {},
   "outputs": [
    {
     "data": {
      "text/plain": [
       "108942"
      ]
     },
     "execution_count": 23,
     "metadata": {},
     "output_type": "execute_result"
    }
   ],
   "source": [
    "len(pd.unique(fraud_app_data['application_id']))"
   ]
  },
  {
   "cell_type": "code",
   "execution_count": 24,
   "id": "a1e5fdbc",
   "metadata": {},
   "outputs": [
    {
     "data": {
      "text/plain": [
       "(108942, 29)"
      ]
     },
     "execution_count": 24,
     "metadata": {},
     "output_type": "execute_result"
    }
   ],
   "source": [
    "fraud_app_data.shape"
   ]
  },
  {
   "cell_type": "code",
   "execution_count": 25,
   "id": "a9ec0883",
   "metadata": {},
   "outputs": [
    {
     "name": "stdout",
     "output_type": "stream",
     "text": [
      "<class 'pandas.core.frame.DataFrame'>\n",
      "Int64Index: 108942 entries, 0 to 108941\n",
      "Data columns (total 29 columns):\n",
      " #   Column                            Non-Null Count   Dtype         \n",
      "---  ------                            --------------   -----         \n",
      " 0   business_id                       108942 non-null  object        \n",
      " 1   application_id                    108942 non-null  object        \n",
      " 2   fraud                             108942 non-null  int64         \n",
      " 3   is_email_valid                    108942 non-null  object        \n",
      " 4   email_is_verified                 108942 non-null  bool          \n",
      " 5   azlo_referral                     108942 non-null  bool          \n",
      " 6   application_start_datetime        108942 non-null  datetime64[ns]\n",
      " 7   application_complete_datetime     108879 non-null  datetime64[ns]\n",
      " 8   application_resubmitted_datetime  32605 non-null   datetime64[ns]\n",
      " 9   number_incomplete_events          108942 non-null  int64         \n",
      " 10  aml_risk_score                    108939 non-null  float64       \n",
      " 11  high_risk_industry                108939 non-null  object        \n",
      " 12  utm_source                        66893 non-null   object        \n",
      " 13  utm_medium                        66803 non-null   object        \n",
      " 14  application_channel               108942 non-null  object        \n",
      " 15  estimated_monthly_revenue         108940 non-null  object        \n",
      " 16  incoming_ach_payments             108940 non-null  object        \n",
      " 17  check_deposit_amount              108940 non-null  object        \n",
      " 18  incoming_wire_transfer            108940 non-null  object        \n",
      " 19  outgoing_ach_and_checks           108940 non-null  object        \n",
      " 20  outgoing_wire_transfers           108940 non-null  object        \n",
      " 21  number_of_employees               108942 non-null  object        \n",
      " 22  has_international_business        108942 non-null  bool          \n",
      " 23  legal_name_exist_in_doc           45726 non-null   object        \n",
      " 24  hear_about_novo                   32772 non-null   object        \n",
      " 25  industry_category_id              108942 non-null  object        \n",
      " 26  industry_category_name            108942 non-null  object        \n",
      " 27  date_of_establishment             83477 non-null   object        \n",
      " 28  business_type                     108942 non-null  object        \n",
      "dtypes: bool(3), datetime64[ns](3), float64(1), int64(2), object(20)\n",
      "memory usage: 22.8+ MB\n"
     ]
    }
   ],
   "source": [
    "fraud_app_data.info()"
   ]
  },
  {
   "cell_type": "code",
   "execution_count": 60,
   "id": "1cc19359",
   "metadata": {},
   "outputs": [
    {
     "data": {
      "text/plain": [
       "Index(['business_id', 'application_id', 'fraud', 'is_email_valid',\n",
       "       'email_is_verified', 'azlo_referral', 'application_start_datetime',\n",
       "       'application_complete_datetime', 'application_resubmitted_datetime',\n",
       "       'number_incomplete_events', 'aml_risk_score', 'high_risk_industry',\n",
       "       'utm_source', 'utm_medium', 'application_channel',\n",
       "       'estimated_monthly_revenue', 'incoming_ach_payments',\n",
       "       'check_deposit_amount', 'incoming_wire_transfer',\n",
       "       'outgoing_ach_and_checks', 'outgoing_wire_transfers',\n",
       "       'number_of_employees', 'has_international_business',\n",
       "       'legal_name_exist_in_doc', 'hear_about_novo', 'industry_category_id',\n",
       "       'industry_category_name', 'date_of_establishment', 'business_type'],\n",
       "      dtype='object')"
      ]
     },
     "execution_count": 60,
     "metadata": {},
     "output_type": "execute_result"
    }
   ],
   "source": [
    "fraud_app_data.columns"
   ]
  },
  {
   "cell_type": "code",
   "execution_count": 26,
   "id": "da856c77",
   "metadata": {},
   "outputs": [],
   "source": [
    "cat_columns = ['is_email_valid','email_is_verified','azlo_referral','number_incomplete_events',\n",
    "               'application_resubmitted_datetime','application_channel','estimated_monthly_revenue',\n",
    "               'incoming_ach_payments',\n",
    "              'check_deposit_amount','incoming_wire_transfer','outgoing_ach_and_checks','outgoing_wire_transfers',\n",
    "              'has_international_business','legal_name_exist_in_doc','hear_about_novo','industry_category_id',\n",
    "               'industry_category_name','business_type'\n",
    "              ]\n"
   ]
  },
  {
   "cell_type": "code",
   "execution_count": null,
   "id": "873ff9ae",
   "metadata": {},
   "outputs": [
    {
     "data": {
      "image/png": "[encoded data removed]",
      "text/plain": [
       "<Figure size 432x288 with 1 Axes>"
      ]
     },
     "metadata": {},
     "output_type": "display_data"
    },
    {
     "data": {
      "image/png": "[encoded data removed]",
      "text/plain": [
       "<Figure size 432x288 with 1 Axes>"
      ]
     },
     "metadata": {},
     "output_type": "display_data"
    },
    {
     "data": {
      "image/png": "[encoded data removed]",
      "text/plain": [
       "<Figure size 432x288 with 1 Axes>"
      ]
     },
     "metadata": {},
     "output_type": "display_data"
    },
    {
     "data": {
      "image/png": "[encoded data removed]",
      "text/plain": [
       "<Figure size 432x288 with 1 Axes>"
      ]
     },
     "metadata": {},
     "output_type": "display_data"
    }
   ],
   "source": [
    "for i, col in enumerate(cat_columns):\n",
    "    plt.figure()\n",
    "    ax = sns.countplot(x=col, hue='fraud', data = fraud_app_data)\n",
    "    for bars in ax.containers:\n",
    "        ax.bar_label(bars, fmt='%.0f')\n",
    "    plt.legend(loc='upper right')\n"
   ]
  },
  {
   "cell_type": "code",
   "execution_count": null,
   "id": "2bd0f0eb",
   "metadata": {},
   "outputs": [],
   "source": []
  },
  {
   "cell_type": "code",
   "execution_count": 218,
   "id": "977bc2b0",
   "metadata": {},
   "outputs": [
    {
     "data": {
      "text/plain": [
       "email_is_verified  fraud\n",
       "False              0        107848\n",
       "                   1           469\n",
       "True               0           618\n",
       "                   1             7\n",
       "dtype: int64"
      ]
     },
     "execution_count": 218,
     "metadata": {},
     "output_type": "execute_result"
    }
   ],
   "source": [
    "cols = ['email_is_verified','fraud']\n",
    "data = fraud_app_data[cols]\n",
    "data = data.groupby(cols).size()\n",
    "data"
   ]
  },
  {
   "cell_type": "code",
   "execution_count": 220,
   "id": "fe8f43dd",
   "metadata": {},
   "outputs": [
    {
     "data": {
      "text/plain": [
       "azlo_referral  fraud\n",
       "False          0        90092\n",
       "               1          470\n",
       "True           0        18374\n",
       "               1            6\n",
       "dtype: int64"
      ]
     },
     "execution_count": 220,
     "metadata": {},
     "output_type": "execute_result"
    }
   ],
   "source": [
    "cols = ['azlo_referral','fraud']\n",
    "data = fraud_app_data[cols]\n",
    "data1 = data.groupby(cols).size()\n",
    "data1"
   ]
  },
  {
   "cell_type": "code",
   "execution_count": 150,
   "id": "c133b536",
   "metadata": {},
   "outputs": [
    {
     "data": {
      "text/plain": [
       "azlo_referral  email_is_verified  fraud\n",
       "False          False              0        89621\n",
       "                                  1          464\n",
       "               True               0          471\n",
       "                                  1            6\n",
       "True           False              0        18227\n",
       "                                  1            5\n",
       "               True               0          147\n",
       "                                  1            1\n",
       "dtype: int64"
      ]
     },
     "execution_count": 150,
     "metadata": {},
     "output_type": "execute_result"
    }
   ],
   "source": [
    "cols = ['azlo_referral','email_is_verified','fraud']\n",
    "data = fraud_app_data[cols]\n",
    "data1 = data.groupby(cols).size()\n",
    "data1"
   ]
  },
  {
   "cell_type": "code",
   "execution_count": 151,
   "id": "64c740f4",
   "metadata": {},
   "outputs": [
    {
     "data": {
      "text/plain": [
       "azlo_referral  email_is_verified  fraud\n",
       "False          False              0        89621\n",
       "                                  1          464\n",
       "               True               0          471\n",
       "                                  1            6\n",
       "True           False              0        18227\n",
       "                                  1            5\n",
       "               True               0          147\n",
       "                                  1            1\n",
       "dtype: int64"
      ]
     },
     "execution_count": 151,
     "metadata": {},
     "output_type": "execute_result"
    }
   ],
   "source": [
    "cols = ['azlo_referral','email_is_verified','fraud']\n",
    "data = fraud_app_data[cols]\n",
    "data1 = data.groupby(cols).size()\n",
    "data1"
   ]
  },
  {
   "cell_type": "code",
   "execution_count": 57,
   "id": "69c650af",
   "metadata": {},
   "outputs": [
    {
     "data": {
      "text/html": [
       "<div>\n",
       "<style scoped>\n",
       "    .dataframe tbody tr th:only-of-type {\n",
       "        vertical-align: middle;\n",
       "    }\n",
       "\n",
       "    .dataframe tbody tr th {\n",
       "        vertical-align: top;\n",
       "    }\n",
       "\n",
       "    .dataframe thead th {\n",
       "        text-align: right;\n",
       "    }\n",
       "</style>\n",
       "<table border=\"1\" class=\"dataframe\">\n",
       "  <thead>\n",
       "    <tr style=\"text-align: right;\">\n",
       "      <th></th>\n",
       "      <th>fraud</th>\n",
       "      <th>email_is_verified</th>\n",
       "      <th>azlo_referral</th>\n",
       "      <th>number_incomplete_events</th>\n",
       "      <th>aml_risk_score</th>\n",
       "      <th>has_international_business</th>\n",
       "    </tr>\n",
       "  </thead>\n",
       "  <tbody>\n",
       "    <tr>\n",
       "      <th>fraud</th>\n",
       "      <td>1.000000</td>\n",
       "      <td>0.007867</td>\n",
       "      <td>-0.027614</td>\n",
       "      <td>-0.006562</td>\n",
       "      <td>0.080790</td>\n",
       "      <td>-0.009458</td>\n",
       "    </tr>\n",
       "    <tr>\n",
       "      <th>email_is_verified</th>\n",
       "      <td>0.007867</td>\n",
       "      <td>1.000000</td>\n",
       "      <td>0.013810</td>\n",
       "      <td>0.047385</td>\n",
       "      <td>-0.027598</td>\n",
       "      <td>0.002635</td>\n",
       "    </tr>\n",
       "    <tr>\n",
       "      <th>azlo_referral</th>\n",
       "      <td>-0.027614</td>\n",
       "      <td>0.013810</td>\n",
       "      <td>1.000000</td>\n",
       "      <td>-0.064178</td>\n",
       "      <td>-0.146217</td>\n",
       "      <td>0.033091</td>\n",
       "    </tr>\n",
       "    <tr>\n",
       "      <th>number_incomplete_events</th>\n",
       "      <td>-0.006562</td>\n",
       "      <td>0.047385</td>\n",
       "      <td>-0.064178</td>\n",
       "      <td>1.000000</td>\n",
       "      <td>-0.069329</td>\n",
       "      <td>0.018687</td>\n",
       "    </tr>\n",
       "    <tr>\n",
       "      <th>aml_risk_score</th>\n",
       "      <td>0.080790</td>\n",
       "      <td>-0.027598</td>\n",
       "      <td>-0.146217</td>\n",
       "      <td>-0.069329</td>\n",
       "      <td>1.000000</td>\n",
       "      <td>0.005526</td>\n",
       "    </tr>\n",
       "    <tr>\n",
       "      <th>has_international_business</th>\n",
       "      <td>-0.009458</td>\n",
       "      <td>0.002635</td>\n",
       "      <td>0.033091</td>\n",
       "      <td>0.018687</td>\n",
       "      <td>0.005526</td>\n",
       "      <td>1.000000</td>\n",
       "    </tr>\n",
       "  </tbody>\n",
       "</table>\n",
       "</div>"
      ],
      "text/plain": [
       "                               fraud  email_is_verified  azlo_referral  \\\n",
       "fraud                       1.000000           0.007867      -0.027614   \n",
       "email_is_verified           0.007867           1.000000       0.013810   \n",
       "azlo_referral              -0.027614           0.013810       1.000000   \n",
       "number_incomplete_events   -0.006562           0.047385      -0.064178   \n",
       "aml_risk_score              0.080790          -0.027598      -0.146217   \n",
       "has_international_business -0.009458           0.002635       0.033091   \n",
       "\n",
       "                            number_incomplete_events  aml_risk_score  \\\n",
       "fraud                                      -0.006562        0.080790   \n",
       "email_is_verified                           0.047385       -0.027598   \n",
       "azlo_referral                              -0.064178       -0.146217   \n",
       "number_incomplete_events                    1.000000       -0.069329   \n",
       "aml_risk_score                             -0.069329        1.000000   \n",
       "has_international_business                  0.018687        0.005526   \n",
       "\n",
       "                            has_international_business  \n",
       "fraud                                        -0.009458  \n",
       "email_is_verified                             0.002635  \n",
       "azlo_referral                                 0.033091  \n",
       "number_incomplete_events                      0.018687  \n",
       "aml_risk_score                                0.005526  \n",
       "has_international_business                    1.000000  "
      ]
     },
     "execution_count": 57,
     "metadata": {},
     "output_type": "execute_result"
    }
   ],
   "source": [
    "fraud_app_data.corr()"
   ]
  },
  {
   "cell_type": "code",
   "execution_count": null,
   "id": "20a00936",
   "metadata": {},
   "outputs": [],
   "source": []
  },
  {
   "cell_type": "markdown",
   "id": "e95bebd0",
   "metadata": {},
   "source": [
    "### Alloy Persons Features "
   ]
  },
  {
   "cell_type": "code",
   "execution_count": 179,
   "id": "28973e45",
   "metadata": {},
   "outputs": [],
   "source": [
    "alloy_persons_data = querySno(\n",
    "\"\"\"\n",
    "with alloy_persons_data as (\n",
    "select distinct\n",
    "APPLICATION_ID,\n",
    "PERSON_SCORE,\n",
    "IDA_SCORE,\n",
    "IOVATION_PROXY_IN_USE,\n",
    "SENTILINK_ABUSE_SCORE,\n",
    "SENTILINK_FIRST_PARTY_SYNTHETIC_SCORE,\n",
    "SENTILINK_THIRD_PARTY_SYNTHETIC_SCORE,\n",
    "SENTILINK_ID_THEFT_SCORE,\n",
    "SOCURE_SIGMA,\n",
    "SOCURE_EMAILRISK,\n",
    "SOCURE_PHONERISK,\n",
    "SOCURE_ADDRESSRISK,\n",
    "rank() over(partition by APPLICATION_ID order by APPLICATION_VERSION_ID desc) as ranking\n",
    "from prod_db.data.ALLOY_EVALUATIONS_PERSONS \n",
    "),\n",
    "\n",
    "\n",
    "apps_data as (\n",
    "select\n",
    "APPLICATION_ID,\n",
    "IS_EMAIL_VALID,\n",
    "EMAIL_IS_VERIFIED,\n",
    "AZLO_REFERRAL,\n",
    "APPLICATION_START_DATETIME,\n",
    "APPLICATION_COMPLETE_DATETIME,\n",
    "APPLICATION_RESUBMITTED_DATETIME,\n",
    "NUMBER_INCOMPLETE_EVENTS,\n",
    "AML_RISK_SCORE,\n",
    "HIGH_RISK_INDUSTRY,\n",
    "UTM_SOURCE,\n",
    "UTM_MEDIUM,\n",
    "APPLICATION_CHANNEL,\n",
    "ESTIMATED_MONTHLY_REVENUE,\n",
    "INCOMING_ACH_PAYMENTS,\n",
    "CHECK_DEPOSIT_AMOUNT,\n",
    "INCOMING_WIRE_TRANSFER,\n",
    "OUTGOING_ACH_AND_CHECKS,\n",
    "OUTGOING_WIRE_TRANSFERS,\n",
    "NUMBER_OF_EMPLOYEES,\n",
    "HAS_INTERNATIONAL_BUSINESS,\n",
    "LEGAL_NAME_EXIST_IN_DOC,\n",
    "HEAR_ABOUT_NOVO,\n",
    "INDUSTRY_CATEGORY_ID,\n",
    "INDUSTRY_CATEGORY_NAME,\n",
    "DATE_OF_ESTABLISHMENT,\n",
    "BUSINESS_TYPE\n",
    "from prod_db.data.applications \n",
    "where ACCOUNT_OPENED_DATETIME between '2021-01-01' and '2022-02-28'\n",
    ")\n",
    "\n",
    "select a.* from (\n",
    "select * from alloy_persons_data where ranking=1) a\n",
    "join\n",
    "apps_data b\n",
    "on a.APPLICATION_ID=b.APPLICATION_ID\n",
    "\n",
    "\"\"\"\n",
    "\n",
    ")"
   ]
  },
  {
   "cell_type": "code",
   "execution_count": 180,
   "id": "c1b5aeea",
   "metadata": {},
   "outputs": [
    {
     "data": {
      "text/plain": [
       "(143795, 13)"
      ]
     },
     "execution_count": 180,
     "metadata": {},
     "output_type": "execute_result"
    }
   ],
   "source": [
    "alloy_persons_data.shape"
   ]
  },
  {
   "cell_type": "code",
   "execution_count": 181,
   "id": "752b8759",
   "metadata": {},
   "outputs": [],
   "source": [
    "fraud_alloy_persons_data = pd.merge(fraud, alloy_persons_data, on='application_id')"
   ]
  },
  {
   "cell_type": "code",
   "execution_count": 182,
   "id": "5fd50807",
   "metadata": {},
   "outputs": [
    {
     "data": {
      "text/plain": [
       "(108937, 15)"
      ]
     },
     "execution_count": 182,
     "metadata": {},
     "output_type": "execute_result"
    }
   ],
   "source": [
    "fraud_alloy_persons_data.shape"
   ]
  },
  {
   "cell_type": "code",
   "execution_count": 188,
   "id": "70d78e95",
   "metadata": {},
   "outputs": [
    {
     "data": {
      "text/plain": [
       "201"
      ]
     },
     "execution_count": 188,
     "metadata": {},
     "output_type": "execute_result"
    }
   ],
   "source": [
    "len(pd.unique(fraud['application_id'])) - len(pd.unique(fraud_alloy_persons_data['application_id']))"
   ]
  },
  {
   "cell_type": "code",
   "execution_count": 173,
   "id": "a566405f",
   "metadata": {},
   "outputs": [
    {
     "data": {
      "text/plain": [
       "108942"
      ]
     },
     "execution_count": 173,
     "metadata": {},
     "output_type": "execute_result"
    }
   ],
   "source": [
    "108942"
   ]
  },
  {
   "cell_type": "code",
   "execution_count": null,
   "id": "739e77c4",
   "metadata": {},
   "outputs": [],
   "source": []
  },
  {
   "cell_type": "code",
   "execution_count": null,
   "id": "954eb32d",
   "metadata": {},
   "outputs": [],
   "source": []
  },
  {
   "cell_type": "code",
   "execution_count": null,
   "id": "0828e627",
   "metadata": {},
   "outputs": [],
   "source": []
  },
  {
   "cell_type": "code",
   "execution_count": null,
   "id": "0552976e",
   "metadata": {},
   "outputs": [],
   "source": []
  },
  {
   "cell_type": "code",
   "execution_count": null,
   "id": "f909de6e",
   "metadata": {},
   "outputs": [],
   "source": []
  },
  {
   "cell_type": "code",
   "execution_count": null,
   "id": "3b10f370",
   "metadata": {},
   "outputs": [],
   "source": []
  },
  {
   "cell_type": "code",
   "execution_count": null,
   "id": "df07b1d8",
   "metadata": {},
   "outputs": [],
   "source": []
  },
  {
   "cell_type": "code",
   "execution_count": null,
   "id": "497856f2",
   "metadata": {},
   "outputs": [],
   "source": []
  },
  {
   "cell_type": "code",
   "execution_count": null,
   "id": "1bcec51f",
   "metadata": {},
   "outputs": [],
   "source": []
  },
  {
   "cell_type": "code",
   "execution_count": null,
   "id": "98e9f042",
   "metadata": {},
   "outputs": [],
   "source": []
  },
  {
   "cell_type": "code",
   "execution_count": null,
   "id": "30f49874",
   "metadata": {},
   "outputs": [],
   "source": []
  },
  {
   "cell_type": "code",
   "execution_count": null,
   "id": "6647d47d",
   "metadata": {},
   "outputs": [],
   "source": []
  },
  {
   "cell_type": "code",
   "execution_count": null,
   "id": "7fcde12e",
   "metadata": {},
   "outputs": [],
   "source": []
  },
  {
   "cell_type": "code",
   "execution_count": null,
   "id": "e3ce9602",
   "metadata": {},
   "outputs": [],
   "source": [
    "closed_accounts = querySno(\n",
    "\"\"\"\n",
    "with loss_tx as (\n",
    "       select *\n",
    "        from (\n",
    "            select business_id\n",
    "            , RANK() OVER (PARTITION BY business_id\n",
    "                ORDER BY transaction_date DESC) returned_rank\n",
    "            , amount as loss_tx_amount\n",
    "            , created_date loss_tx_created_at\n",
    "            , transaction_date loss_tx_transaction_date\n",
    "            from prod_db.data.transactions\n",
    "            where 1=1\n",
    "                and medium in ('Descriptive Deposit', 'Closeout Withdrawal')\n",
    "                and amount > 0\n",
    "                and running_balance = 0\n",
    "        )\n",
    "        where returned_rank=1\n",
    "),\n",
    "\n",
    "fraud_closure_accounts as (\n",
    "    select business_id, closure_reason, business_type, account_close_date, ACCOUNT_CREATE_DATE \n",
    "    ,ACCOUNT_STATUS, CLOSURE_IS_SUSPECT_FRAUD\n",
    "    from prod_db.data.businesses \n",
    "    where 1=1\n",
    "        and closure_reason ilike '%fraud%' \n",
    "        and account_close_date is not null \n",
    "        and account_close_date between '2021-01-01' and '2022-02-28'\n",
    "),\n",
    "\n",
    "fraud_acounts as (\n",
    "select distinct f.business_id, 1 as fraud from fraud_closure_accounts f \n",
    "inner join loss_tx l on f.business_id = l.business_id\n",
    ")\n",
    "\n",
    "select count(*) as fraud from fraud_acounts where fraud=1\n",
    "\"\"\")\n"
   ]
  },
  {
   "cell_type": "code",
   "execution_count": null,
   "id": "33dabe95",
   "metadata": {},
   "outputs": [],
   "source": [
    "closed_accounts"
   ]
  },
  {
   "cell_type": "code",
   "execution_count": null,
   "id": "e0d20eb5",
   "metadata": {},
   "outputs": [],
   "source": [
    "opened_accounts = querySno(\n",
    "\"\"\"\n",
    "with loss_tx as (\n",
    "       select *\n",
    "        from (\n",
    "            select business_id\n",
    "            , RANK() OVER (PARTITION BY business_id\n",
    "                ORDER BY transaction_date DESC) returned_rank\n",
    "            , amount as loss_tx_amount\n",
    "            , created_date loss_tx_created_at\n",
    "            , transaction_date loss_tx_transaction_date\n",
    "            from prod_db.data.transactions\n",
    "            where 1=1\n",
    "                and medium in ('Descriptive Deposit', 'Closeout Withdrawal')\n",
    "                and amount > 0\n",
    "                and running_balance = 0\n",
    "        )\n",
    "        where returned_rank=1\n",
    "),\n",
    "\n",
    "fraud_closure_accounts as (\n",
    "    select business_id, closure_reason, business_type, account_close_date, ACCOUNT_CREATE_DATE \n",
    "    ,ACCOUNT_STATUS, CLOSURE_IS_SUSPECT_FRAUD\n",
    "    from prod_db.data.businesses \n",
    "    where 1=1\n",
    "        and closure_reason ilike '%fraud%' \n",
    "        and account_close_date is not null \n",
    "        and account_close_date between '2021-01-01' and '2022-02-28'\n",
    "        and ACCOUNT_CREATE_DATE between '2021-01-01' and '2022-02-28'\n",
    "),\n",
    "\n",
    "fraud_acounts as (\n",
    "select distinct f.business_id, 1 as fraud from fraud_closure_accounts f \n",
    "inner join loss_tx l on f.business_id = l.business_id\n",
    ")\n",
    "\n",
    "select count(*) as fraud from fraud_acounts where fraud=1\n",
    "\"\"\")\n"
   ]
  },
  {
   "cell_type": "code",
   "execution_count": null,
   "id": "d122de56",
   "metadata": {},
   "outputs": [],
   "source": [
    "opened_accounts"
   ]
  },
  {
   "cell_type": "code",
   "execution_count": null,
   "id": "0e323e1d",
   "metadata": {},
   "outputs": [],
   "source": []
  }
 ],
 "metadata": {
  "kernelspec": {
   "display_name": "Python 3 (ipykernel)",
   "language": "python",
   "name": "python3"
  },
  "language_info": {
   "codemirror_mode": {
    "name": "ipython",
    "version": 3
   },
   "file_extension": ".py",
   "mimetype": "text/x-python",
   "name": "python",
   "nbconvert_exporter": "python",
   "pygments_lexer": "ipython3",
   "version": "3.9.12"
  }
 },
 "nbformat": 4,
 "nbformat_minor": 5
}
